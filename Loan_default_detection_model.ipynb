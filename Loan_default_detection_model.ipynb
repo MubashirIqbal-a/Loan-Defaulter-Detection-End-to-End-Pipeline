{
 "cells": [
  {
   "cell_type": "markdown",
   "id": "4816b048",
   "metadata": {},
   "source": [
    "# Importing Data and Library"
   ]
  },
  {
   "cell_type": "code",
   "execution_count": 1,
   "id": "99c1bf17",
   "metadata": {},
   "outputs": [],
   "source": [
    "import pandas as pd\n",
    "import numpy as np\n",
    "import seaborn as sns\n",
    "from sklearn.compose import ColumnTransformer\n",
    "from sklearn.preprocessing import OneHotEncoder,FunctionTransformer,LabelEncoder,StandardScaler\n",
    "from sklearn.model_selection import train_test_split,cross_val_score,GridSearchCV\n",
    "from sklearn.impute import SimpleImputer\n",
    "import wolta.model_tools as wltm \n",
    "from sklearn.pipeline import Pipeline"
   ]
  },
  {
   "cell_type": "code",
   "execution_count": 2,
   "id": "23b13def",
   "metadata": {},
   "outputs": [],
   "source": [
    "df = pd.read_csv(\"LoanDataset.csv\")\n",
    "df.drop(columns=[\"customer_id\"],inplace=True)"
   ]
  },
  {
   "cell_type": "code",
   "execution_count": 3,
   "id": "d4d941ba",
   "metadata": {},
   "outputs": [
    {
     "data": {
      "text/html": [
       "<div>\n",
       "<style scoped>\n",
       "    .dataframe tbody tr th:only-of-type {\n",
       "        vertical-align: middle;\n",
       "    }\n",
       "\n",
       "    .dataframe tbody tr th {\n",
       "        vertical-align: top;\n",
       "    }\n",
       "\n",
       "    .dataframe thead th {\n",
       "        text-align: right;\n",
       "    }\n",
       "</style>\n",
       "<table border=\"1\" class=\"dataframe\">\n",
       "  <thead>\n",
       "    <tr style=\"text-align: right;\">\n",
       "      <th></th>\n",
       "      <th>customer_age</th>\n",
       "      <th>customer_income</th>\n",
       "      <th>home_ownership</th>\n",
       "      <th>employment_duration</th>\n",
       "      <th>loan_intent</th>\n",
       "      <th>loan_grade</th>\n",
       "      <th>loan_amnt</th>\n",
       "      <th>loan_int_rate</th>\n",
       "      <th>term_years</th>\n",
       "      <th>historical_default</th>\n",
       "      <th>cred_hist_length</th>\n",
       "      <th>Current_loan_status</th>\n",
       "    </tr>\n",
       "  </thead>\n",
       "  <tbody>\n",
       "    <tr>\n",
       "      <th>1854</th>\n",
       "      <td>24</td>\n",
       "      <td>102000</td>\n",
       "      <td>RENT</td>\n",
       "      <td>8.0</td>\n",
       "      <td>HOMEIMPROVEMENT</td>\n",
       "      <td>B</td>\n",
       "      <td>£15,000.00</td>\n",
       "      <td>14.22</td>\n",
       "      <td>8</td>\n",
       "      <td>NaN</td>\n",
       "      <td>4</td>\n",
       "      <td>NO DEFAULT</td>\n",
       "    </tr>\n",
       "  </tbody>\n",
       "</table>\n",
       "</div>"
      ],
      "text/plain": [
       "      customer_age customer_income home_ownership  employment_duration  \\\n",
       "1854            24          102000           RENT                  8.0   \n",
       "\n",
       "          loan_intent loan_grade   loan_amnt  loan_int_rate  term_years  \\\n",
       "1854  HOMEIMPROVEMENT          B  £15,000.00          14.22           8   \n",
       "\n",
       "     historical_default  cred_hist_length Current_loan_status  \n",
       "1854                NaN                 4          NO DEFAULT  "
      ]
     },
     "execution_count": 3,
     "metadata": {},
     "output_type": "execute_result"
    }
   ],
   "source": [
    "df.sample()"
   ]
  },
  {
   "cell_type": "code",
   "execution_count": 51,
   "id": "036c08fe",
   "metadata": {},
   "outputs": [
    {
     "name": "stdout",
     "output_type": "stream",
     "text": [
      "<class 'pandas.core.frame.DataFrame'>\n",
      "RangeIndex: 32586 entries, 0 to 32585\n",
      "Data columns (total 12 columns):\n",
      " #   Column               Non-Null Count  Dtype  \n",
      "---  ------               --------------  -----  \n",
      " 0   customer_age         32586 non-null  int64  \n",
      " 1   customer_income      32586 non-null  object \n",
      " 2   home_ownership       32586 non-null  object \n",
      " 3   employment_duration  31691 non-null  float64\n",
      " 4   loan_intent          32586 non-null  object \n",
      " 5   loan_grade           32586 non-null  object \n",
      " 6   loan_amnt            32585 non-null  object \n",
      " 7   loan_int_rate        29470 non-null  float64\n",
      " 8   term_years           32586 non-null  int64  \n",
      " 9   historical_default   11849 non-null  object \n",
      " 10  cred_hist_length     32586 non-null  int64  \n",
      " 11  Current_loan_status  32582 non-null  object \n",
      "dtypes: float64(2), int64(3), object(7)\n",
      "memory usage: 3.0+ MB\n"
     ]
    }
   ],
   "source": [
    "df.info()"
   ]
  },
  {
   "cell_type": "markdown",
   "id": "f7dc5ba1",
   "metadata": {},
   "source": [
    "# Data Preprocessing"
   ]
  },
  {
   "cell_type": "code",
   "execution_count": 56,
   "id": "f07f306e",
   "metadata": {},
   "outputs": [],
   "source": [
    "df= df.dropna(subset=[\"Current_loan_status\"],axis=0)"
   ]
  },
  {
   "cell_type": "code",
   "execution_count": 57,
   "id": "cdf157a2",
   "metadata": {},
   "outputs": [
    {
     "data": {
      "text/plain": [
       "['customer_age',\n",
       " 'customer_income',\n",
       " 'employment_duration',\n",
       " 'loan_amnt',\n",
       " 'term_years',\n",
       " 'cred_hist_length',\n",
       " 'loan_int_rate',\n",
       " 'home_ownership',\n",
       " 'loan_intent',\n",
       " 'loan_grade',\n",
       " 'historical_default']"
      ]
     },
     "execution_count": 57,
     "metadata": {},
     "output_type": "execute_result"
    }
   ],
   "source": [
    "col = ['customer_age','customer_income','employment_duration','loan_amnt','term_years','cred_hist_length','loan_int_rate']\n",
    "for c in df.columns.tolist():\n",
    "    if (c in ['customer_age','customer_income','employment_duration','loan_amnt','term_years','cred_hist_length','loan_int_rate']) | (c in ['Current_loan_status']):\n",
    "        continue\n",
    "    col.append(c)\n",
    "col"
   ]
  },
  {
   "cell_type": "code",
   "execution_count": 117,
   "id": "3dc0d5aa",
   "metadata": {},
   "outputs": [],
   "source": [
    "lab = LabelEncoder()\n",
    "df['Current_loan_status'] = lab.fit_transform(df['Current_loan_status'])\n",
    "X_train,X_test,y_train,y_test = train_test_split(df[col],df['Current_loan_status'],test_size=0.2,random_state=42)"
   ]
  },
  {
   "cell_type": "code",
   "execution_count": 159,
   "id": "b409feb6",
   "metadata": {},
   "outputs": [],
   "source": [
    "# def remove_comma_euro_and_convert_to_float(col):\n",
    "#     col = col.str.replace(',', '').str.replace('£', '')\n",
    "#     return col.astype(float)\n",
    "\n",
    "# # Create a FunctionTransformer\n",
    "# # remove_comma_euro_transformer = FunctionTransformer(lambda x: x.apply(remove_comma_euro_and_convert_to_float))\n",
    "# remove_comma_euro_transformer = FunctionTransformer(remove_comma_euro_and_convert_to_float)\n",
    "\n",
    "def remove_comma_euro_and_convert_to_float(df):\n",
    "    df = df.apply(lambda col: col.str.replace(',', '').str.replace('£', '').astype(float))\n",
    "    return df\n",
    "\n",
    "# Create a FunctionTransformer\n",
    "remove_comma_euro_transformer = FunctionTransformer(remove_comma_euro_and_convert_to_float)"
   ]
  },
  {
   "cell_type": "markdown",
   "id": "55de9337",
   "metadata": {},
   "source": [
    "- **As `FunctionTransformer` works on series not on dataframe that's why we need to tackle it using lambda**"
   ]
  },
  {
   "cell_type": "code",
   "execution_count": 60,
   "id": "23130240",
   "metadata": {},
   "outputs": [
    {
     "data": {
      "text/plain": [
       "customer_age               0\n",
       "customer_income            0\n",
       "employment_duration      723\n",
       "loan_amnt                  1\n",
       "term_years                 0\n",
       "cred_hist_length           0\n",
       "loan_int_rate           2479\n",
       "home_ownership             0\n",
       "loan_intent                0\n",
       "loan_grade                 0\n",
       "historical_default     16574\n",
       "dtype: int64"
      ]
     },
     "execution_count": 60,
     "metadata": {},
     "output_type": "execute_result"
    }
   ],
   "source": [
    "X_train.isnull().sum()"
   ]
  },
  {
   "cell_type": "code",
   "execution_count": 61,
   "id": "a2dfebea",
   "metadata": {},
   "outputs": [
    {
     "data": {
      "text/html": [
       "<div>\n",
       "<style scoped>\n",
       "    .dataframe tbody tr th:only-of-type {\n",
       "        vertical-align: middle;\n",
       "    }\n",
       "\n",
       "    .dataframe tbody tr th {\n",
       "        vertical-align: top;\n",
       "    }\n",
       "\n",
       "    .dataframe thead th {\n",
       "        text-align: right;\n",
       "    }\n",
       "</style>\n",
       "<table border=\"1\" class=\"dataframe\">\n",
       "  <thead>\n",
       "    <tr style=\"text-align: right;\">\n",
       "      <th></th>\n",
       "      <th>customer_age</th>\n",
       "      <th>customer_income</th>\n",
       "      <th>employment_duration</th>\n",
       "      <th>loan_amnt</th>\n",
       "      <th>term_years</th>\n",
       "      <th>cred_hist_length</th>\n",
       "      <th>loan_int_rate</th>\n",
       "      <th>home_ownership</th>\n",
       "      <th>loan_intent</th>\n",
       "      <th>loan_grade</th>\n",
       "      <th>historical_default</th>\n",
       "    </tr>\n",
       "  </thead>\n",
       "  <tbody>\n",
       "    <tr>\n",
       "      <th>24390</th>\n",
       "      <td>31</td>\n",
       "      <td>50000</td>\n",
       "      <td>1.0</td>\n",
       "      <td>£10,000.00</td>\n",
       "      <td>1</td>\n",
       "      <td>8</td>\n",
       "      <td>12.69</td>\n",
       "      <td>RENT</td>\n",
       "      <td>MEDICAL</td>\n",
       "      <td>B</td>\n",
       "      <td>NaN</td>\n",
       "    </tr>\n",
       "    <tr>\n",
       "      <th>13321</th>\n",
       "      <td>25</td>\n",
       "      <td>44000</td>\n",
       "      <td>1.0</td>\n",
       "      <td>£2,800.00</td>\n",
       "      <td>5</td>\n",
       "      <td>3</td>\n",
       "      <td>6.92</td>\n",
       "      <td>RENT</td>\n",
       "      <td>EDUCATION</td>\n",
       "      <td>A</td>\n",
       "      <td>NaN</td>\n",
       "    </tr>\n",
       "    <tr>\n",
       "      <th>1338</th>\n",
       "      <td>26</td>\n",
       "      <td>25000</td>\n",
       "      <td>1.0</td>\n",
       "      <td>£1,000.00</td>\n",
       "      <td>6</td>\n",
       "      <td>3</td>\n",
       "      <td>14.65</td>\n",
       "      <td>RENT</td>\n",
       "      <td>MEDICAL</td>\n",
       "      <td>B</td>\n",
       "      <td>Y</td>\n",
       "    </tr>\n",
       "    <tr>\n",
       "      <th>24084</th>\n",
       "      <td>27</td>\n",
       "      <td>70000</td>\n",
       "      <td>9.0</td>\n",
       "      <td>£16,000.00</td>\n",
       "      <td>7</td>\n",
       "      <td>7</td>\n",
       "      <td>7.90</td>\n",
       "      <td>MORTGAGE</td>\n",
       "      <td>EDUCATION</td>\n",
       "      <td>A</td>\n",
       "      <td>NaN</td>\n",
       "    </tr>\n",
       "    <tr>\n",
       "      <th>11963</th>\n",
       "      <td>22</td>\n",
       "      <td>40000</td>\n",
       "      <td>6.0</td>\n",
       "      <td>£5,000.00</td>\n",
       "      <td>2</td>\n",
       "      <td>4</td>\n",
       "      <td>16.29</td>\n",
       "      <td>OWN</td>\n",
       "      <td>EDUCATION</td>\n",
       "      <td>C</td>\n",
       "      <td>Y</td>\n",
       "    </tr>\n",
       "    <tr>\n",
       "      <th>...</th>\n",
       "      <td>...</td>\n",
       "      <td>...</td>\n",
       "      <td>...</td>\n",
       "      <td>...</td>\n",
       "      <td>...</td>\n",
       "      <td>...</td>\n",
       "      <td>...</td>\n",
       "      <td>...</td>\n",
       "      <td>...</td>\n",
       "      <td>...</td>\n",
       "      <td>...</td>\n",
       "    </tr>\n",
       "    <tr>\n",
       "      <th>29806</th>\n",
       "      <td>39</td>\n",
       "      <td>38500</td>\n",
       "      <td>7.0</td>\n",
       "      <td>£3,500.00</td>\n",
       "      <td>9</td>\n",
       "      <td>17</td>\n",
       "      <td>13.98</td>\n",
       "      <td>MORTGAGE</td>\n",
       "      <td>MEDICAL</td>\n",
       "      <td>C</td>\n",
       "      <td>Y</td>\n",
       "    </tr>\n",
       "    <tr>\n",
       "      <th>5390</th>\n",
       "      <td>25</td>\n",
       "      <td>45000</td>\n",
       "      <td>2.0</td>\n",
       "      <td>£3,000.00</td>\n",
       "      <td>5</td>\n",
       "      <td>3</td>\n",
       "      <td>6.92</td>\n",
       "      <td>MORTGAGE</td>\n",
       "      <td>MEDICAL</td>\n",
       "      <td>A</td>\n",
       "      <td>NaN</td>\n",
       "    </tr>\n",
       "    <tr>\n",
       "      <th>860</th>\n",
       "      <td>24</td>\n",
       "      <td>138000</td>\n",
       "      <td>2.0</td>\n",
       "      <td>£20,000.00</td>\n",
       "      <td>9</td>\n",
       "      <td>3</td>\n",
       "      <td>15.99</td>\n",
       "      <td>RENT</td>\n",
       "      <td>VENTURE</td>\n",
       "      <td>C</td>\n",
       "      <td>Y</td>\n",
       "    </tr>\n",
       "    <tr>\n",
       "      <th>15795</th>\n",
       "      <td>25</td>\n",
       "      <td>175000</td>\n",
       "      <td>9.0</td>\n",
       "      <td>£7,550.00</td>\n",
       "      <td>5</td>\n",
       "      <td>4</td>\n",
       "      <td>11.49</td>\n",
       "      <td>MORTGAGE</td>\n",
       "      <td>PERSONAL</td>\n",
       "      <td>A</td>\n",
       "      <td>NaN</td>\n",
       "    </tr>\n",
       "    <tr>\n",
       "      <th>23658</th>\n",
       "      <td>27</td>\n",
       "      <td>65000</td>\n",
       "      <td>11.0</td>\n",
       "      <td>£8,000.00</td>\n",
       "      <td>7</td>\n",
       "      <td>8</td>\n",
       "      <td>7.49</td>\n",
       "      <td>MORTGAGE</td>\n",
       "      <td>VENTURE</td>\n",
       "      <td>A</td>\n",
       "      <td>NaN</td>\n",
       "    </tr>\n",
       "  </tbody>\n",
       "</table>\n",
       "<p>26065 rows × 11 columns</p>\n",
       "</div>"
      ],
      "text/plain": [
       "       customer_age customer_income  employment_duration   loan_amnt  \\\n",
       "24390            31           50000                  1.0  £10,000.00   \n",
       "13321            25           44000                  1.0   £2,800.00   \n",
       "1338             26           25000                  1.0   £1,000.00   \n",
       "24084            27           70000                  9.0  £16,000.00   \n",
       "11963            22           40000                  6.0   £5,000.00   \n",
       "...             ...             ...                  ...         ...   \n",
       "29806            39           38500                  7.0   £3,500.00   \n",
       "5390             25           45000                  2.0   £3,000.00   \n",
       "860              24          138000                  2.0  £20,000.00   \n",
       "15795            25          175000                  9.0   £7,550.00   \n",
       "23658            27           65000                 11.0   £8,000.00   \n",
       "\n",
       "       term_years  cred_hist_length  loan_int_rate home_ownership loan_intent  \\\n",
       "24390           1                 8          12.69           RENT     MEDICAL   \n",
       "13321           5                 3           6.92           RENT   EDUCATION   \n",
       "1338            6                 3          14.65           RENT     MEDICAL   \n",
       "24084           7                 7           7.90       MORTGAGE   EDUCATION   \n",
       "11963           2                 4          16.29            OWN   EDUCATION   \n",
       "...           ...               ...            ...            ...         ...   \n",
       "29806           9                17          13.98       MORTGAGE     MEDICAL   \n",
       "5390            5                 3           6.92       MORTGAGE     MEDICAL   \n",
       "860             9                 3          15.99           RENT     VENTURE   \n",
       "15795           5                 4          11.49       MORTGAGE    PERSONAL   \n",
       "23658           7                 8           7.49       MORTGAGE     VENTURE   \n",
       "\n",
       "      loan_grade historical_default  \n",
       "24390          B                NaN  \n",
       "13321          A                NaN  \n",
       "1338           B                  Y  \n",
       "24084          A                NaN  \n",
       "11963          C                  Y  \n",
       "...          ...                ...  \n",
       "29806          C                  Y  \n",
       "5390           A                NaN  \n",
       "860            C                  Y  \n",
       "15795          A                NaN  \n",
       "23658          A                NaN  \n",
       "\n",
       "[26065 rows x 11 columns]"
      ]
     },
     "execution_count": 61,
     "metadata": {},
     "output_type": "execute_result"
    }
   ],
   "source": [
    "X_train"
   ]
  },
  {
   "cell_type": "markdown",
   "id": "7fce7f66",
   "metadata": {},
   "source": [
    "## ColumnTransformers for Data Cleaning and Imputation"
   ]
  },
  {
   "cell_type": "markdown",
   "id": "1ede824c",
   "metadata": {},
   "source": [
    "###  Column transformer for Clean and clip"
   ]
  },
  {
   "cell_type": "code",
   "execution_count": 167,
   "id": "4a48d5cd",
   "metadata": {},
   "outputs": [],
   "source": [
    "from sklearn.impute import KNNImputer\n",
    "# clip the age to 100 and clean values in customer_income and loan_amount\n",
    "def clip(df):\n",
    "    return df.applymap(lambda x: min(x, 100))\n",
    "clean_clip = ColumnTransformer(\n",
    "    transformers=[\n",
    "        (\"clean1\",remove_comma_euro_transformer,[1]),\n",
    "        (\"clean2\",remove_comma_euro_transformer,[3]),\n",
    "#         (\"clipping\",FunctionTransformer(lambda x: x.clip(upper=100)),[0]),\n",
    "        (\"clipping\",FunctionTransformer(clip),[0]),\n",
    "         ],remainder='passthrough'\n",
    ")"
   ]
  },
  {
   "cell_type": "markdown",
   "id": "9f5a419a",
   "metadata": {},
   "source": [
    "### Column transformer for Imputing"
   ]
  },
  {
   "cell_type": "code",
   "execution_count": 77,
   "id": "79ab3759",
   "metadata": {},
   "outputs": [],
   "source": [
    "# imputing employment duration \n",
    "# Using Knn imputer because simple imputer was affecting the data distribution\n",
    "interest_imputer = ColumnTransformer(\n",
    "    transformers=[\n",
    "        (\"num_imputerr\",KNNImputer(n_neighbors=5),[3]),\n",
    "         ],remainder='passthrough'\n",
    ")\n",
    "# imputing 2---> loan_amount, 6---> loan_int_rate, 10---> historical_default\n",
    "\n",
    "imputer = ColumnTransformer(\n",
    "    transformers=[\n",
    "        (\"near_imputer\",KNNImputer(n_neighbors=5),[2,6]),\n",
    "        (\"cat_imputer\",SimpleImputer(strategy=\"constant\",fill_value=\"missing\"),[10]),\n",
    "        \n",
    "         ],remainder='passthrough'\n",
    ")"
   ]
  },
  {
   "cell_type": "markdown",
   "id": "d713d717",
   "metadata": {},
   "source": [
    "###  Column transformer for Scaling and Encoding"
   ]
  },
  {
   "cell_type": "code",
   "execution_count": 78,
   "id": "2dd289e3",
   "metadata": {},
   "outputs": [],
   "source": [
    "# Normalizing Numeric columns \n",
    "#     0-->loan_amount, 1-->loan_int_rate, 3-->employment_duration,\n",
    "#     4-->customer_income, 5-->Customer_age, 6-->term_years, 7--> cred_hist_lenght\n",
    "# Encoding categorical columns\n",
    "# 2-->historical_default,8--> home_ownership, 9--> loan_intent, 10--> loan_grade \n",
    "encoding = ColumnTransformer(\n",
    "    transformers=[\n",
    "        (\"Normalizing\",StandardScaler(),[0,1,3,4,5,6,7]),\n",
    "        (\"encoding\",OneHotEncoder(),[2,8,9,10]),\n",
    "        \n",
    "         ],remainder='passthrough'\n",
    ")"
   ]
  },
  {
   "cell_type": "markdown",
   "id": "ca1e59e6",
   "metadata": {},
   "source": [
    "### Testing Column Transformers"
   ]
  },
  {
   "cell_type": "code",
   "execution_count": 168,
   "id": "742997bc",
   "metadata": {
    "scrolled": true
   },
   "outputs": [
    {
     "data": {
      "text/html": [
       "<div>\n",
       "<style scoped>\n",
       "    .dataframe tbody tr th:only-of-type {\n",
       "        vertical-align: middle;\n",
       "    }\n",
       "\n",
       "    .dataframe tbody tr th {\n",
       "        vertical-align: top;\n",
       "    }\n",
       "\n",
       "    .dataframe thead th {\n",
       "        text-align: right;\n",
       "    }\n",
       "</style>\n",
       "<table border=\"1\" class=\"dataframe\">\n",
       "  <thead>\n",
       "    <tr style=\"text-align: right;\">\n",
       "      <th></th>\n",
       "      <th>0</th>\n",
       "      <th>1</th>\n",
       "      <th>2</th>\n",
       "      <th>3</th>\n",
       "      <th>4</th>\n",
       "      <th>5</th>\n",
       "      <th>6</th>\n",
       "      <th>7</th>\n",
       "      <th>8</th>\n",
       "      <th>9</th>\n",
       "      <th>...</th>\n",
       "      <th>15</th>\n",
       "      <th>16</th>\n",
       "      <th>17</th>\n",
       "      <th>18</th>\n",
       "      <th>19</th>\n",
       "      <th>20</th>\n",
       "      <th>21</th>\n",
       "      <th>22</th>\n",
       "      <th>23</th>\n",
       "      <th>24</th>\n",
       "    </tr>\n",
       "  </thead>\n",
       "  <tbody>\n",
       "    <tr>\n",
       "      <th>0</th>\n",
       "      <td>0.010009</td>\n",
       "      <td>0.534976</td>\n",
       "      <td>-0.934634</td>\n",
       "      <td>-0.252835</td>\n",
       "      <td>0.512079</td>\n",
       "      <td>-1.523317</td>\n",
       "      <td>0.539707</td>\n",
       "      <td>0.0</td>\n",
       "      <td>0.0</td>\n",
       "      <td>1.0</td>\n",
       "      <td>...</td>\n",
       "      <td>0.0</td>\n",
       "      <td>0.0</td>\n",
       "      <td>1.0</td>\n",
       "      <td>0.0</td>\n",
       "      <td>0.0</td>\n",
       "      <td>0.0</td>\n",
       "      <td>1.0</td>\n",
       "      <td>0.0</td>\n",
       "      <td>0.0</td>\n",
       "      <td>0.0</td>\n",
       "    </tr>\n",
       "    <tr>\n",
       "      <th>1</th>\n",
       "      <td>-0.298400</td>\n",
       "      <td>-1.309202</td>\n",
       "      <td>-0.934634</td>\n",
       "      <td>-0.347290</td>\n",
       "      <td>-0.433446</td>\n",
       "      <td>0.096612</td>\n",
       "      <td>-0.689730</td>\n",
       "      <td>0.0</td>\n",
       "      <td>0.0</td>\n",
       "      <td>1.0</td>\n",
       "      <td>...</td>\n",
       "      <td>1.0</td>\n",
       "      <td>0.0</td>\n",
       "      <td>0.0</td>\n",
       "      <td>0.0</td>\n",
       "      <td>0.0</td>\n",
       "      <td>1.0</td>\n",
       "      <td>0.0</td>\n",
       "      <td>0.0</td>\n",
       "      <td>0.0</td>\n",
       "      <td>0.0</td>\n",
       "    </tr>\n",
       "    <tr>\n",
       "      <th>2</th>\n",
       "      <td>-0.375503</td>\n",
       "      <td>1.161421</td>\n",
       "      <td>-0.934634</td>\n",
       "      <td>-0.646399</td>\n",
       "      <td>-0.275858</td>\n",
       "      <td>0.501594</td>\n",
       "      <td>-0.689730</td>\n",
       "      <td>0.0</td>\n",
       "      <td>1.0</td>\n",
       "      <td>0.0</td>\n",
       "      <td>...</td>\n",
       "      <td>0.0</td>\n",
       "      <td>0.0</td>\n",
       "      <td>1.0</td>\n",
       "      <td>0.0</td>\n",
       "      <td>0.0</td>\n",
       "      <td>0.0</td>\n",
       "      <td>1.0</td>\n",
       "      <td>0.0</td>\n",
       "      <td>0.0</td>\n",
       "      <td>0.0</td>\n",
       "    </tr>\n",
       "    <tr>\n",
       "      <th>3</th>\n",
       "      <td>0.267018</td>\n",
       "      <td>-0.995980</td>\n",
       "      <td>1.034214</td>\n",
       "      <td>0.062016</td>\n",
       "      <td>-0.118271</td>\n",
       "      <td>0.906576</td>\n",
       "      <td>0.293820</td>\n",
       "      <td>0.0</td>\n",
       "      <td>0.0</td>\n",
       "      <td>1.0</td>\n",
       "      <td>...</td>\n",
       "      <td>1.0</td>\n",
       "      <td>0.0</td>\n",
       "      <td>0.0</td>\n",
       "      <td>0.0</td>\n",
       "      <td>0.0</td>\n",
       "      <td>1.0</td>\n",
       "      <td>0.0</td>\n",
       "      <td>0.0</td>\n",
       "      <td>0.0</td>\n",
       "      <td>0.0</td>\n",
       "    </tr>\n",
       "    <tr>\n",
       "      <th>4</th>\n",
       "      <td>-0.204164</td>\n",
       "      <td>1.685590</td>\n",
       "      <td>0.295896</td>\n",
       "      <td>-0.410261</td>\n",
       "      <td>-0.906208</td>\n",
       "      <td>-1.118335</td>\n",
       "      <td>-0.443843</td>\n",
       "      <td>0.0</td>\n",
       "      <td>1.0</td>\n",
       "      <td>0.0</td>\n",
       "      <td>...</td>\n",
       "      <td>1.0</td>\n",
       "      <td>0.0</td>\n",
       "      <td>0.0</td>\n",
       "      <td>0.0</td>\n",
       "      <td>0.0</td>\n",
       "      <td>0.0</td>\n",
       "      <td>0.0</td>\n",
       "      <td>1.0</td>\n",
       "      <td>0.0</td>\n",
       "      <td>0.0</td>\n",
       "    </tr>\n",
       "    <tr>\n",
       "      <th>...</th>\n",
       "      <td>...</td>\n",
       "      <td>...</td>\n",
       "      <td>...</td>\n",
       "      <td>...</td>\n",
       "      <td>...</td>\n",
       "      <td>...</td>\n",
       "      <td>...</td>\n",
       "      <td>...</td>\n",
       "      <td>...</td>\n",
       "      <td>...</td>\n",
       "      <td>...</td>\n",
       "      <td>...</td>\n",
       "      <td>...</td>\n",
       "      <td>...</td>\n",
       "      <td>...</td>\n",
       "      <td>...</td>\n",
       "      <td>...</td>\n",
       "      <td>...</td>\n",
       "      <td>...</td>\n",
       "      <td>...</td>\n",
       "      <td>...</td>\n",
       "    </tr>\n",
       "    <tr>\n",
       "      <th>26060</th>\n",
       "      <td>-0.268416</td>\n",
       "      <td>0.947279</td>\n",
       "      <td>0.542002</td>\n",
       "      <td>-0.433874</td>\n",
       "      <td>1.772779</td>\n",
       "      <td>1.716540</td>\n",
       "      <td>2.752695</td>\n",
       "      <td>0.0</td>\n",
       "      <td>1.0</td>\n",
       "      <td>0.0</td>\n",
       "      <td>...</td>\n",
       "      <td>0.0</td>\n",
       "      <td>0.0</td>\n",
       "      <td>1.0</td>\n",
       "      <td>0.0</td>\n",
       "      <td>0.0</td>\n",
       "      <td>0.0</td>\n",
       "      <td>0.0</td>\n",
       "      <td>1.0</td>\n",
       "      <td>0.0</td>\n",
       "      <td>0.0</td>\n",
       "    </tr>\n",
       "    <tr>\n",
       "      <th>26061</th>\n",
       "      <td>-0.289833</td>\n",
       "      <td>-1.309202</td>\n",
       "      <td>-0.688528</td>\n",
       "      <td>-0.331548</td>\n",
       "      <td>-0.433446</td>\n",
       "      <td>0.096612</td>\n",
       "      <td>-0.689730</td>\n",
       "      <td>0.0</td>\n",
       "      <td>0.0</td>\n",
       "      <td>1.0</td>\n",
       "      <td>...</td>\n",
       "      <td>0.0</td>\n",
       "      <td>0.0</td>\n",
       "      <td>1.0</td>\n",
       "      <td>0.0</td>\n",
       "      <td>0.0</td>\n",
       "      <td>1.0</td>\n",
       "      <td>0.0</td>\n",
       "      <td>0.0</td>\n",
       "      <td>0.0</td>\n",
       "      <td>0.0</td>\n",
       "    </tr>\n",
       "    <tr>\n",
       "      <th>26062</th>\n",
       "      <td>0.438356</td>\n",
       "      <td>1.589706</td>\n",
       "      <td>-0.688528</td>\n",
       "      <td>1.132510</td>\n",
       "      <td>-0.591033</td>\n",
       "      <td>1.716540</td>\n",
       "      <td>-0.689730</td>\n",
       "      <td>0.0</td>\n",
       "      <td>1.0</td>\n",
       "      <td>0.0</td>\n",
       "      <td>...</td>\n",
       "      <td>0.0</td>\n",
       "      <td>0.0</td>\n",
       "      <td>0.0</td>\n",
       "      <td>0.0</td>\n",
       "      <td>1.0</td>\n",
       "      <td>0.0</td>\n",
       "      <td>0.0</td>\n",
       "      <td>1.0</td>\n",
       "      <td>0.0</td>\n",
       "      <td>0.0</td>\n",
       "    </tr>\n",
       "    <tr>\n",
       "      <th>26063</th>\n",
       "      <td>-0.094935</td>\n",
       "      <td>0.151438</td>\n",
       "      <td>1.034214</td>\n",
       "      <td>1.714985</td>\n",
       "      <td>-0.433446</td>\n",
       "      <td>0.096612</td>\n",
       "      <td>-0.443843</td>\n",
       "      <td>0.0</td>\n",
       "      <td>0.0</td>\n",
       "      <td>1.0</td>\n",
       "      <td>...</td>\n",
       "      <td>0.0</td>\n",
       "      <td>0.0</td>\n",
       "      <td>0.0</td>\n",
       "      <td>1.0</td>\n",
       "      <td>0.0</td>\n",
       "      <td>1.0</td>\n",
       "      <td>0.0</td>\n",
       "      <td>0.0</td>\n",
       "      <td>0.0</td>\n",
       "      <td>0.0</td>\n",
       "    </tr>\n",
       "    <tr>\n",
       "      <th>26064</th>\n",
       "      <td>-0.075660</td>\n",
       "      <td>-1.127022</td>\n",
       "      <td>1.526426</td>\n",
       "      <td>-0.016697</td>\n",
       "      <td>-0.118271</td>\n",
       "      <td>0.906576</td>\n",
       "      <td>0.539707</td>\n",
       "      <td>0.0</td>\n",
       "      <td>0.0</td>\n",
       "      <td>1.0</td>\n",
       "      <td>...</td>\n",
       "      <td>0.0</td>\n",
       "      <td>0.0</td>\n",
       "      <td>0.0</td>\n",
       "      <td>0.0</td>\n",
       "      <td>1.0</td>\n",
       "      <td>1.0</td>\n",
       "      <td>0.0</td>\n",
       "      <td>0.0</td>\n",
       "      <td>0.0</td>\n",
       "      <td>0.0</td>\n",
       "    </tr>\n",
       "  </tbody>\n",
       "</table>\n",
       "<p>26065 rows × 25 columns</p>\n",
       "</div>"
      ],
      "text/plain": [
       "             0         1         2         3         4         5         6   \\\n",
       "0      0.010009  0.534976 -0.934634 -0.252835  0.512079 -1.523317  0.539707   \n",
       "1     -0.298400 -1.309202 -0.934634 -0.347290 -0.433446  0.096612 -0.689730   \n",
       "2     -0.375503  1.161421 -0.934634 -0.646399 -0.275858  0.501594 -0.689730   \n",
       "3      0.267018 -0.995980  1.034214  0.062016 -0.118271  0.906576  0.293820   \n",
       "4     -0.204164  1.685590  0.295896 -0.410261 -0.906208 -1.118335 -0.443843   \n",
       "...         ...       ...       ...       ...       ...       ...       ...   \n",
       "26060 -0.268416  0.947279  0.542002 -0.433874  1.772779  1.716540  2.752695   \n",
       "26061 -0.289833 -1.309202 -0.688528 -0.331548 -0.433446  0.096612 -0.689730   \n",
       "26062  0.438356  1.589706 -0.688528  1.132510 -0.591033  1.716540 -0.689730   \n",
       "26063 -0.094935  0.151438  1.034214  1.714985 -0.433446  0.096612 -0.443843   \n",
       "26064 -0.075660 -1.127022  1.526426 -0.016697 -0.118271  0.906576  0.539707   \n",
       "\n",
       "        7    8    9   ...   15   16   17   18   19   20   21   22   23   24  \n",
       "0      0.0  0.0  1.0  ...  0.0  0.0  1.0  0.0  0.0  0.0  1.0  0.0  0.0  0.0  \n",
       "1      0.0  0.0  1.0  ...  1.0  0.0  0.0  0.0  0.0  1.0  0.0  0.0  0.0  0.0  \n",
       "2      0.0  1.0  0.0  ...  0.0  0.0  1.0  0.0  0.0  0.0  1.0  0.0  0.0  0.0  \n",
       "3      0.0  0.0  1.0  ...  1.0  0.0  0.0  0.0  0.0  1.0  0.0  0.0  0.0  0.0  \n",
       "4      0.0  1.0  0.0  ...  1.0  0.0  0.0  0.0  0.0  0.0  0.0  1.0  0.0  0.0  \n",
       "...    ...  ...  ...  ...  ...  ...  ...  ...  ...  ...  ...  ...  ...  ...  \n",
       "26060  0.0  1.0  0.0  ...  0.0  0.0  1.0  0.0  0.0  0.0  0.0  1.0  0.0  0.0  \n",
       "26061  0.0  0.0  1.0  ...  0.0  0.0  1.0  0.0  0.0  1.0  0.0  0.0  0.0  0.0  \n",
       "26062  0.0  1.0  0.0  ...  0.0  0.0  0.0  0.0  1.0  0.0  0.0  1.0  0.0  0.0  \n",
       "26063  0.0  0.0  1.0  ...  0.0  0.0  0.0  1.0  0.0  1.0  0.0  0.0  0.0  0.0  \n",
       "26064  0.0  0.0  1.0  ...  0.0  0.0  0.0  0.0  1.0  1.0  0.0  0.0  0.0  0.0  \n",
       "\n",
       "[26065 rows x 25 columns]"
      ]
     },
     "execution_count": 168,
     "metadata": {},
     "output_type": "execute_result"
    }
   ],
   "source": [
    "X_train_transfromed = clean_clip.fit_transform(X_train)\n",
    "X_train_transfromed = interest_imputer.fit_transform(X_train_transfromed) \n",
    "X_train_transfromed = imputer.fit_transform(X_train_transfromed)\n",
    "X_train_transfromed = encoding.fit_transform(X_train_transfromed)\n",
    "# X_train_transfromed = pd.DataFrame(X_train_transfromed)\n",
    "pd.DataFrame(X_train_transfromed)"
   ]
  },
  {
   "cell_type": "markdown",
   "id": "e78c3b2a",
   "metadata": {},
   "source": [
    "# Data Preprocessing Pipeline with Scikit-learn"
   ]
  },
  {
   "cell_type": "code",
   "execution_count": 170,
   "id": "61b37c5d",
   "metadata": {},
   "outputs": [],
   "source": [
    "pipeline = Pipeline(steps=[\n",
    "    (\"clean_n_clip\",clean_clip),\n",
    "    (\"loan_interest_imputer\",interest_imputer),\n",
    "    (\"imputer_othercolumns\",imputer),\n",
    "    (\"encoding\",encoding)\n",
    "]\n",
    ")"
   ]
  },
  {
   "cell_type": "code",
   "execution_count": 171,
   "id": "1af47529",
   "metadata": {},
   "outputs": [
    {
     "data": {
      "text/plain": [
       "0     0\n",
       "1     0\n",
       "2     0\n",
       "3     0\n",
       "4     0\n",
       "5     0\n",
       "6     0\n",
       "7     0\n",
       "8     0\n",
       "9     0\n",
       "10    0\n",
       "11    0\n",
       "12    0\n",
       "13    0\n",
       "14    0\n",
       "15    0\n",
       "16    0\n",
       "17    0\n",
       "18    0\n",
       "19    0\n",
       "20    0\n",
       "21    0\n",
       "22    0\n",
       "23    0\n",
       "24    0\n",
       "dtype: int64"
      ]
     },
     "execution_count": 171,
     "metadata": {},
     "output_type": "execute_result"
    }
   ],
   "source": [
    "X_train_trans = pipeline.fit_transform(X_train)\n",
    "\n",
    "X_train_trans = pd.DataFrame(X_train_trans)\n",
    "X_train_trans.isnull().sum()"
   ]
  },
  {
   "cell_type": "code",
   "execution_count": 172,
   "id": "d1b2734c",
   "metadata": {},
   "outputs": [
    {
     "data": {
      "text/plain": [
       "0     0\n",
       "1     0\n",
       "2     0\n",
       "3     0\n",
       "4     0\n",
       "5     0\n",
       "6     0\n",
       "7     0\n",
       "8     0\n",
       "9     0\n",
       "10    0\n",
       "11    0\n",
       "12    0\n",
       "13    0\n",
       "14    0\n",
       "15    0\n",
       "16    0\n",
       "17    0\n",
       "18    0\n",
       "19    0\n",
       "20    0\n",
       "21    0\n",
       "22    0\n",
       "23    0\n",
       "24    0\n",
       "dtype: int64"
      ]
     },
     "execution_count": 172,
     "metadata": {},
     "output_type": "execute_result"
    }
   ],
   "source": [
    "X_test_trans = pipeline.transform(X_test)\n",
    "X_test_trans = pd.DataFrame(X_test_trans)\n",
    "X_test_trans.isnull().sum()"
   ]
  },
  {
   "cell_type": "markdown",
   "id": "5e1bf10b",
   "metadata": {},
   "source": [
    "# Model Training"
   ]
  },
  {
   "cell_type": "code",
   "execution_count": 68,
   "id": "7bcf0f9c",
   "metadata": {},
   "outputs": [
    {
     "name": "stdout",
     "output_type": "stream",
     "text": [
      "AdaBoost\n",
      "Accuracy Score: 0.9469080865428878\n",
      "Precision Score: 0.9470562861692814\n",
      "F1 Score (weighted): 0.9469790305477506\n",
      "***\n",
      "CatBoost\n",
      "Accuracy Score: 0.9759091606567439\n",
      "Precision Score: 0.9757794969019704\n",
      "F1 Score (weighted): 0.9756774461560641\n",
      "***\n",
      "Random Forest\n",
      "Accuracy Score: 0.9711523707227252\n",
      "Precision Score: 0.9709802446688498\n",
      "F1 Score (weighted): 0.9707948557860894\n",
      "***\n",
      "Decision Tree\n",
      "Accuracy Score: 0.955040662881694\n",
      "Precision Score: 0.9549589653730773\n",
      "F1 Score (weighted): 0.9549982263643408\n",
      "***\n"
     ]
    },
    {
     "name": "stderr",
     "output_type": "stream",
     "text": [
      "C:\\Users\\Mubashir\\anaconda3\\Lib\\site-packages\\sklearn\\linear_model\\_logistic.py:460: ConvergenceWarning: lbfgs failed to converge (status=1):\n",
      "STOP: TOTAL NO. of ITERATIONS REACHED LIMIT.\n",
      "\n",
      "Increase the number of iterations (max_iter) or scale the data as shown in:\n",
      "    https://scikit-learn.org/stable/modules/preprocessing.html\n",
      "Please also refer to the documentation for alternative solver options:\n",
      "    https://scikit-learn.org/stable/modules/linear_model.html#logistic-regression\n",
      "  n_iter_i = _check_optimize_result(\n"
     ]
    },
    {
     "name": "stdout",
     "output_type": "stream",
     "text": [
      "Logistic Regression\n",
      "Accuracy Score: 0.9370876170016879\n",
      "Precision Score: 0.9365233120921962\n",
      "F1 Score (weighted): 0.9367598687721653\n",
      "***\n",
      "LightGBM\n",
      "Accuracy Score: 0.9742212674543501\n",
      "Precision Score: 0.9740715273482174\n",
      "F1 Score (weighted): 0.9739546337545095\n",
      "***\n"
     ]
    }
   ],
   "source": [
    "from wolta.model_tools import compare_models\n",
    "\n",
    "compare_models('clf',\n",
    "              ['ada', 'cat', 'raf', 'dtr', 'log', 'lbm'],\n",
    "              ['acc', 'precision','f1'],\n",
    "              X_train_trans, y_train, X_test_trans, y_test)"
   ]
  },
  {
   "cell_type": "markdown",
   "id": "1349210e",
   "metadata": {},
   "source": [
    "**Cat Boost** is delivering best results out of all these models with `f1 score` of `97.56`"
   ]
  },
  {
   "cell_type": "code",
   "execution_count": 92,
   "id": "bd90e4d2",
   "metadata": {},
   "outputs": [
    {
     "data": {
      "text/plain": [
       "<function wolta.model_tools.compare_models(algo_type, algorithms, metrics, X_train, y_train, X_test, y_test)>"
      ]
     },
     "execution_count": 92,
     "metadata": {},
     "output_type": "execute_result"
    }
   ],
   "source": [
    "compare_models"
   ]
  },
  {
   "cell_type": "code",
   "execution_count": 120,
   "id": "4eba2a86",
   "metadata": {
    "scrolled": true
   },
   "outputs": [
    {
     "data": {
      "text/plain": [
       "0.9840261739799846"
      ]
     },
     "execution_count": 120,
     "metadata": {},
     "output_type": "execute_result"
    }
   ],
   "source": [
    "from catboost import CatBoostClassifier\n",
    "from sklearn.metrics import f1_score\n",
    "model = CatBoostClassifier(iterations=1000,depth=7,learning_rate=0.01,verbose=False,eval_metric='F1')\n",
    "model.fit(X_train_trans,y_train)\n",
    "f1_score(y_test,model.predict(X_test_trans))"
   ]
  },
  {
   "cell_type": "code",
   "execution_count": 121,
   "id": "79f74a68",
   "metadata": {},
   "outputs": [
    {
     "name": "stdout",
     "output_type": "stream",
     "text": [
      "0.9745281571275126\n"
     ]
    }
   ],
   "source": [
    "print((model.predict(X_test_trans)==y_test).mean())"
   ]
  },
  {
   "cell_type": "code",
   "execution_count": 122,
   "id": "d49ba578",
   "metadata": {},
   "outputs": [
    {
     "name": "stdout",
     "output_type": "stream",
     "text": [
      "0.9752953813104189\n"
     ]
    },
    {
     "data": {
      "text/plain": [
       "0.9844759425320606"
      ]
     },
     "execution_count": 122,
     "metadata": {},
     "output_type": "execute_result"
    }
   ],
   "source": [
    "from catboost import CatBoostClassifier\n",
    "from sklearn.metrics import f1_score\n",
    "model = CatBoostClassifier(iterations=1000,depth=7,learning_rate=0.03,verbose=False,eval_metric='F1')\n",
    "model.fit(X_train_trans,y_train)\n",
    "print((model.predict(X_test_trans)==y_test).mean())\n",
    "f1_score(y_test,model.predict(X_test_trans))"
   ]
  },
  {
   "cell_type": "code",
   "execution_count": 123,
   "id": "04a3bca7",
   "metadata": {},
   "outputs": [
    {
     "name": "stdout",
     "output_type": "stream",
     "text": [
      "0.9748350468006751\n"
     ]
    },
    {
     "data": {
      "text/plain": [
       "0.98419734052804"
      ]
     },
     "execution_count": 123,
     "metadata": {},
     "output_type": "execute_result"
    }
   ],
   "source": [
    "from catboost import CatBoostClassifier\n",
    "from sklearn.metrics import f1_score\n",
    "model = CatBoostClassifier(iterations=1000,depth=7,learning_rate=0.04,verbose=False,eval_metric='F1')\n",
    "model.fit(X_train_trans,y_train)\n",
    "print((model.predict(X_test_trans)==y_test).mean())\n",
    "f1_score(y_test,model.predict(X_test_trans))"
   ]
  },
  {
   "cell_type": "code",
   "execution_count": 124,
   "id": "592ea21f",
   "metadata": {},
   "outputs": [
    {
     "name": "stdout",
     "output_type": "stream",
     "text": [
      "0.9734540432714439\n"
     ]
    },
    {
     "data": {
      "text/plain": [
       "0.9833156524254991"
      ]
     },
     "execution_count": 124,
     "metadata": {},
     "output_type": "execute_result"
    }
   ],
   "source": [
    "from catboost import CatBoostClassifier\n",
    "from sklearn.metrics import f1_score\n",
    "model = CatBoostClassifier(iterations=1000,depth=7,learning_rate=0.05,verbose=False,eval_metric='F1')\n",
    "model.fit(X_train_trans,y_train)\n",
    "print((model.predict(X_test_trans)==y_test).mean())\n",
    "f1_score(y_test,model.predict(X_test_trans))"
   ]
  },
  {
   "cell_type": "code",
   "execution_count": 125,
   "id": "57649464",
   "metadata": {},
   "outputs": [
    {
     "name": "stdout",
     "output_type": "stream",
     "text": [
      "0.9762160503299064\n"
     ]
    },
    {
     "data": {
      "text/plain": [
       "0.9850544788352136"
      ]
     },
     "execution_count": 125,
     "metadata": {},
     "output_type": "execute_result"
    }
   ],
   "source": [
    "from catboost import CatBoostClassifier\n",
    "from sklearn.metrics import f1_score\n",
    "model = CatBoostClassifier(iterations=1000,depth=8,learning_rate=0.03,verbose=False,eval_metric='F1')\n",
    "model.fit(X_train_trans,y_train)\n",
    "print((model.predict(X_test_trans)==y_test).mean())\n",
    "f1_score(y_test,model.predict(X_test_trans))"
   ]
  },
  {
   "cell_type": "code",
   "execution_count": 144,
   "id": "9c6a02ea",
   "metadata": {
    "scrolled": false
   },
   "outputs": [
    {
     "name": "stdout",
     "output_type": "stream",
     "text": [
      "{'iteration': 1000, 'depth': 3, 'lr': 0.001, 'accuracy': 0.9373945066748504, 'f1_score': 0.9615094339622641}\n",
      "{'iteration': 1000, 'depth': 3, 'lr': 0.005, 'accuracy': 0.9525855454963941, 'f1_score': 0.9705293276108727}\n",
      "{'iteration': 1000, 'depth': 3, 'lr': 0.01, 'accuracy': 0.9620991253644315, 'f1_score': 0.976334195650091}\n",
      "{'iteration': 1000, 'depth': 3, 'lr': 0.3, 'accuracy': 0.9736074881080251, 'f1_score': 0.9834168916313151}\n",
      "{'iteration': 1000, 'depth': 5, 'lr': 0.001, 'accuracy': 0.9455270830136566, 'f1_score': 0.9663793919878777}\n",
      "{'iteration': 1000, 'depth': 5, 'lr': 0.005, 'accuracy': 0.9639404634034064, 'f1_score': 0.9775098095511533}\n",
      "{'iteration': 1000, 'depth': 5, 'lr': 0.01, 'accuracy': 0.9702317017032377, 'f1_score': 0.9813569094753027}\n",
      "{'iteration': 1000, 'depth': 5, 'lr': 0.3, 'accuracy': 0.9740678226177689, 'f1_score': 0.9837014176873373}\n",
      "{'iteration': 1000, 'depth': 8, 'lr': 0.001, 'accuracy': 0.9573423354304128, 'f1_score': 0.9734479465138491}\n",
      "{'iteration': 1000, 'depth': 8, 'lr': 0.005, 'accuracy': 0.9728402639251189, 'f1_score': 0.9829791326089047}\n",
      "{'iteration': 1000, 'depth': 8, 'lr': 0.01, 'accuracy': 0.9751419364738376, 'f1_score': 0.9844020797227037}\n",
      "{'iteration': 1000, 'depth': 8, 'lr': 0.3, 'accuracy': 0.9731471535982814, 'f1_score': 0.9831292779330955}\n",
      "{'iteration': 1000, 'depth': 10, 'lr': 0.001, 'accuracy': 0.9627129047107564, 'f1_score': 0.9767397338948981}\n",
      "{'iteration': 1000, 'depth': 10, 'lr': 0.005, 'accuracy': 0.9749884916372564, 'f1_score': 0.9843193843193844}\n",
      "{'iteration': 1000, 'depth': 10, 'lr': 0.01, 'accuracy': 0.9745281571275126, 'f1_score': 0.9840169458886964}\n",
      "{'iteration': 1000, 'depth': 10, 'lr': 0.3, 'accuracy': 0.9740678226177689, 'f1_score': 0.9837108433734939}\n",
      "{'iteration': 1200, 'depth': 3, 'lr': 0.001, 'accuracy': 0.9398496240601504, 'f1_score': 0.962955962955963}\n",
      "{'iteration': 1200, 'depth': 3, 'lr': 0.005, 'accuracy': 0.9551941077182753, 'f1_score': 0.972126765941199}\n",
      "{'iteration': 1200, 'depth': 3, 'lr': 0.01, 'accuracy': 0.9631732392205002, 'f1_score': 0.9769850402761796}\n",
      "{'iteration': 1200, 'depth': 3, 'lr': 0.3, 'accuracy': 0.9734540432714439, 'f1_score': 0.9833188699257546}\n",
      "{'iteration': 1200, 'depth': 5, 'lr': 0.001, 'accuracy': 0.9479822003989565, 'f1_score': 0.9678337603188158}\n",
      "{'iteration': 1200, 'depth': 5, 'lr': 0.005, 'accuracy': 0.965474911769219, 'f1_score': 0.978433815776862}\n",
      "{'iteration': 1200, 'depth': 5, 'lr': 0.01, 'accuracy': 0.9716127052324689, 'f1_score': 0.982213248726084}\n",
      "{'iteration': 1200, 'depth': 5, 'lr': 0.3, 'accuracy': 0.9739143777811876, 'f1_score': 0.9836065573770492}\n",
      "{'iteration': 1200, 'depth': 8, 'lr': 0.001, 'accuracy': 0.9597974528157127, 'f1_score': 0.9749713412304165}\n",
      "{'iteration': 1200, 'depth': 8, 'lr': 0.005, 'accuracy': 0.9729937087617002, 'f1_score': 0.9830769230769231}\n",
      "{'iteration': 1200, 'depth': 8, 'lr': 0.01, 'accuracy': 0.9751419364738376, 'f1_score': 0.9843990755007704}\n",
      "{'iteration': 1200, 'depth': 8, 'lr': 0.3, 'accuracy': 0.9731471535982814, 'f1_score': 0.9831292779330955}\n",
      "{'iteration': 1200, 'depth': 10, 'lr': 0.001, 'accuracy': 0.9657818014423815, 'f1_score': 0.9786337070039283}\n",
      "{'iteration': 1200, 'depth': 10, 'lr': 0.005, 'accuracy': 0.9745281571275126, 'f1_score': 0.9840230991337826}\n",
      "{'iteration': 1200, 'depth': 10, 'lr': 0.01, 'accuracy': 0.9748350468006751, 'f1_score': 0.9842095128057}\n",
      "{'iteration': 1200, 'depth': 10, 'lr': 0.3, 'accuracy': 0.9743747122909314, 'f1_score': 0.9839036144578314}\n",
      "{'iteration': 1500, 'depth': 3, 'lr': 0.001, 'accuracy': 0.9415375172625441, 'f1_score': 0.9639511779733182}\n",
      "{'iteration': 1500, 'depth': 3, 'lr': 0.005, 'accuracy': 0.9584164492864815, 'f1_score': 0.9740843454145549}\n",
      "{'iteration': 1500, 'depth': 3, 'lr': 0.01, 'accuracy': 0.9663955807887065, 'f1_score': 0.9789726356216994}\n",
      "{'iteration': 1500, 'depth': 3, 'lr': 0.3, 'accuracy': 0.9740678226177689, 'f1_score': 0.9836982733674159}\n",
      "{'iteration': 1500, 'depth': 5, 'lr': 0.001, 'accuracy': 0.9513579868037441, 'f1_score': 0.9698468562731856}\n",
      "{'iteration': 1500, 'depth': 5, 'lr': 0.005, 'accuracy': 0.9680834739911002, 'f1_score': 0.980030721966206}\n",
      "{'iteration': 1500, 'depth': 5, 'lr': 0.01, 'accuracy': 0.9725333742519564, 'f1_score': 0.9827801827801828}\n",
      "{'iteration': 1500, 'depth': 5, 'lr': 0.3, 'accuracy': 0.9742212674543501, 'f1_score': 0.9838025453143078}\n",
      "{'iteration': 1500, 'depth': 8, 'lr': 0.001, 'accuracy': 0.9627129047107564, 'f1_score': 0.9767886140032477}\n",
      "{'iteration': 1500, 'depth': 8, 'lr': 0.005, 'accuracy': 0.9742212674543501, 'f1_score': 0.983836828939773}\n",
      "{'iteration': 1500, 'depth': 8, 'lr': 0.01, 'accuracy': 0.9752953813104189, 'f1_score': 0.9844908968307484}\n",
      "{'iteration': 1500, 'depth': 8, 'lr': 0.3, 'accuracy': 0.9729937087617002, 'f1_score': 0.9830279652844744}\n",
      "{'iteration': 1500, 'depth': 10, 'lr': 0.001, 'accuracy': 0.9682369188276815, 'f1_score': 0.9801515006232621}\n",
      "{'iteration': 1500, 'depth': 10, 'lr': 0.005, 'accuracy': 0.9748350468006751, 'f1_score': 0.9842095128057}\n",
      "{'iteration': 1500, 'depth': 10, 'lr': 0.01, 'accuracy': 0.9751419364738376, 'f1_score': 0.9843990755007704}\n",
      "{'iteration': 1500, 'depth': 10, 'lr': 0.3, 'accuracy': 0.9745281571275126, 'f1_score': 0.984004625168626}\n"
     ]
    }
   ],
   "source": [
    "scores =pd.DataFrame(columns=['iteration','depth','lr','accuracy','f1_score'])\n",
    "for itr in [1000,1200,1500]:\n",
    "    for dep in [3,5,8,10]:\n",
    "        for lr in [0.001,0.005,0.01,0.3]:\n",
    "            model = CatBoostClassifier(iterations=itr,depth=dep,learning_rate=lr,verbose=False,eval_metric='F1')\n",
    "            model.fit(X_train_trans,y_train)\n",
    "            acc = (model.predict(X_test_trans)==y_test).mean()\n",
    "            f1 = f1_score(y_test,model.predict(X_test_trans))\n",
    "            dic ={\n",
    "                \"iteration\":itr,\n",
    "                \"depth\"    :dep,\n",
    "                \"lr\"       :lr,\n",
    "                \"accuracy\" :acc,\n",
    "                \"f1_score\" :f1\n",
    "            }\n",
    "            print(dic)\n",
    "            score = pd.DataFrame(dic,index=[0])\n",
    "            scores = pd.concat([scores, score], ignore_index=True, sort=False)"
   ]
  },
  {
   "cell_type": "code",
   "execution_count": null,
   "id": "f393a06b",
   "metadata": {},
   "outputs": [],
   "source": [
    "# model = CatBoostClassifier(iterations=1000,depth=8,learning_rate=0.03,verbose=False,eval_metric='F1')"
   ]
  },
  {
   "cell_type": "code",
   "execution_count": 145,
   "id": "50848531",
   "metadata": {},
   "outputs": [
    {
     "data": {
      "text/html": [
       "<div>\n",
       "<style scoped>\n",
       "    .dataframe tbody tr th:only-of-type {\n",
       "        vertical-align: middle;\n",
       "    }\n",
       "\n",
       "    .dataframe tbody tr th {\n",
       "        vertical-align: top;\n",
       "    }\n",
       "\n",
       "    .dataframe thead th {\n",
       "        text-align: right;\n",
       "    }\n",
       "</style>\n",
       "<table border=\"1\" class=\"dataframe\">\n",
       "  <thead>\n",
       "    <tr style=\"text-align: right;\">\n",
       "      <th></th>\n",
       "      <th>iteration</th>\n",
       "      <th>depth</th>\n",
       "      <th>lr</th>\n",
       "      <th>accuracy</th>\n",
       "      <th>f1_score</th>\n",
       "    </tr>\n",
       "  </thead>\n",
       "  <tbody>\n",
       "    <tr>\n",
       "      <th>42</th>\n",
       "      <td>1500</td>\n",
       "      <td>8</td>\n",
       "      <td>0.01</td>\n",
       "      <td>0.975295</td>\n",
       "      <td>0.984491</td>\n",
       "    </tr>\n",
       "    <tr>\n",
       "      <th>10</th>\n",
       "      <td>1000</td>\n",
       "      <td>8</td>\n",
       "      <td>0.01</td>\n",
       "      <td>0.975142</td>\n",
       "      <td>0.984402</td>\n",
       "    </tr>\n",
       "    <tr>\n",
       "      <th>26</th>\n",
       "      <td>1200</td>\n",
       "      <td>8</td>\n",
       "      <td>0.01</td>\n",
       "      <td>0.975142</td>\n",
       "      <td>0.984399</td>\n",
       "    </tr>\n",
       "  </tbody>\n",
       "</table>\n",
       "</div>"
      ],
      "text/plain": [
       "   iteration depth    lr  accuracy  f1_score\n",
       "42      1500     8  0.01  0.975295  0.984491\n",
       "10      1000     8  0.01  0.975142  0.984402\n",
       "26      1200     8  0.01  0.975142  0.984399"
      ]
     },
     "execution_count": 145,
     "metadata": {},
     "output_type": "execute_result"
    }
   ],
   "source": [
    "scores.sort_values(by=\"f1_score\",ascending=False).head(3)"
   ]
  },
  {
   "cell_type": "markdown",
   "id": "7eb70b78",
   "metadata": {},
   "source": [
    "## Training final model"
   ]
  },
  {
   "cell_type": "code",
   "execution_count": 173,
   "id": "259a53da",
   "metadata": {},
   "outputs": [
    {
     "name": "stdout",
     "output_type": "stream",
     "text": [
      "Accuacy : 0.9752953813104189\n",
      "F1 Score : 0.9844908968307484\n"
     ]
    }
   ],
   "source": [
    "model = CatBoostClassifier(iterations=1500,depth=8,learning_rate=0.01,verbose=False,eval_metric='F1')\n",
    "model.fit(X_train_trans,y_train)\n",
    "print(\"Accuacy :\",(model.predict(X_test_trans)==y_test).mean())\n",
    "print(\"F1 Score :\",f1_score(y_test,model.predict(X_test_trans)))"
   ]
  },
  {
   "cell_type": "code",
   "execution_count": 174,
   "id": "a89cefbc",
   "metadata": {},
   "outputs": [],
   "source": [
    "pipeline2 =Pipeline(\n",
    "steps=[\n",
    "    (\"model\",model)\n",
    "])\n",
    "\n",
    "pipline_final=Pipeline(\n",
    "steps=[\n",
    "    (\"transformation\",pipeline),\n",
    "    (\"model\",pipeline2)\n",
    "])"
   ]
  },
  {
   "cell_type": "code",
   "execution_count": 175,
   "id": "216222b0",
   "metadata": {},
   "outputs": [
    {
     "data": {
      "text/plain": [
       "0.9752953813104189"
      ]
     },
     "execution_count": 175,
     "metadata": {},
     "output_type": "execute_result"
    }
   ],
   "source": [
    "(pipline_final.predict(X_test)==y_test).mean()"
   ]
  },
  {
   "cell_type": "code",
   "execution_count": 176,
   "id": "b1f0e85b",
   "metadata": {},
   "outputs": [],
   "source": [
    "import pickle\n",
    "with open('pipeline.pkl', 'wb') as file:\n",
    "    pickle.dump(pipeline, file)"
   ]
  },
  {
   "cell_type": "code",
   "execution_count": 178,
   "id": "4298b880",
   "metadata": {},
   "outputs": [],
   "source": [
    "with open('pipeline.pkl', 'rb') as file:\n",
    "    loaded_pipeline = pickle.load(file)"
   ]
  },
  {
   "cell_type": "markdown",
   "id": "84d431c2",
   "metadata": {},
   "source": []
  },
  {
   "cell_type": "code",
   "execution_count": 2,
   "id": "9c141297",
   "metadata": {},
   "outputs": [
    {
     "name": "stdout",
     "output_type": "stream",
     "text": [
      "pandas version: 2.0.3\n",
      "numpy version: 1.24.3\n",
      "seaborn version: 0.12.2\n",
      "scikit-learn version: 1.3.0\n",
      "matplotlib version: 3.7.2\n",
      "wolta version: (not available)\n"
     ]
    }
   ],
   "source": [
    "import pandas as pd\n",
    "import numpy as np\n",
    "import seaborn as sns\n",
    "from sklearn import __version__ as sklearn_version\n",
    "import matplotlib as mpl\n",
    "\n",
    "print(\"pandas version:\", pd.__version__)\n",
    "print(\"numpy version:\", np.__version__)\n",
    "print(\"seaborn version:\", sns.__version__)\n",
    "print(\"scikit-learn version:\", sklearn_version)\n",
    "print(\"matplotlib version:\", mpl.__version__)\n",
    "print(\"wolta version: (not available)\")\n"
   ]
  },
  {
   "cell_type": "code",
   "execution_count": 3,
   "id": "607be85e",
   "metadata": {},
   "outputs": [],
   "source": [
    "with open(\"requirements.txt\", \"w\") as file:\n",
    "    file.write(\"pandas==2.0.3\\n\")\n",
    "    file.write(\"numpy==1.24.3\\n\")\n",
    "    file.write(\"scikit-learn==1.3.0\\n\")\n",
    "    file.write(\"matplotlib==3.7.2\\n\")\n",
    "    file.write(\"wolta\\n\")"
   ]
  },
  {
   "cell_type": "code",
   "execution_count": null,
   "id": "5deefc87",
   "metadata": {},
   "outputs": [],
   "source": []
  }
 ],
 "metadata": {
  "kernelspec": {
   "display_name": "Python 3 (ipykernel)",
   "language": "python",
   "name": "python3"
  },
  "language_info": {
   "codemirror_mode": {
    "name": "ipython",
    "version": 3
   },
   "file_extension": ".py",
   "mimetype": "text/x-python",
   "name": "python",
   "nbconvert_exporter": "python",
   "pygments_lexer": "ipython3",
   "version": "3.11.5"
  }
 },
 "nbformat": 4,
 "nbformat_minor": 5
}
